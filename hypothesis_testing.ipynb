{
 "cells": [
  {
   "cell_type": "markdown",
   "metadata": {},
   "source": [
    "# Hypothesis Testing Exercise"
   ]
  },
  {
   "cell_type": "markdown",
   "metadata": {},
   "source": [
    "### Question 1: Has the network latency gone up since we switched ISPs?\n",
    "\n"
   ]
  },
  {
   "cell_type": "markdown",
   "metadata": {},
   "source": [
    "$H_0$: Network latency will remain the same after the ISP switch.\n",
    "\n",
    "$H_a$: The new service provider has higher latency\n",
    "\n",
    "True Positive: We reject $H_0$, our latency is higher with the new provider then it was previously by a significant amount\n",
    "\n",
    "False Positive: We reject $H_0$, our data says the latency is higher; maybe our data is biased, we recorded data during hours of high internet traffic\n",
    "\n",
    "False Negative: We fail to reject $H_0$: we took recordings at extremely low internet traffic times\n",
    "\n",
    "True Negative: There is not a significant difference in latency between the ISPs and we fail to reject $H_0$"
   ]
  },
  {
   "cell_type": "markdown",
   "metadata": {},
   "source": [
    "### Question 2: Is the website redesign any good?"
   ]
  },
  {
   "cell_type": "markdown",
   "metadata": {},
   "source": [
    "$H_0$: Our website traffic has no significant changes since the redesign\n",
    "\n",
    "$H_a$: The webstie traffic has increased since the redesign\n",
    "\n",
    "True Positive: reject $H_0$, the redesign improved website traffic, shows true based on data\n",
    "\n",
    "False Positive: reject $H_0$, we conclude that the redesign helped, but really it didn't; our recordings could be biased. May have showed the redesign to loyal customers\n",
    "\n",
    "False Negative: fail to reject $H_0$, we conclude the redesign did not help, but really it did; our display could have been given to customers who have shown negative feedback in the past\n",
    "\n",
    "True Negative: fail to reject $H_0$, we conclude the redesign did not help, and it really didn't"
   ]
  },
  {
   "cell_type": "markdown",
   "metadata": {},
   "source": [
    "### Question 3: Is our TV ad driving more sales?\n",
    "    -Scenario: We're frito-lay advertising cool ranch doritos.\n",
    "\n"
   ]
  },
  {
   "cell_type": "markdown",
   "metadata": {},
   "source": [
    "$H_0$: Cool Ranch doritos don't sell better with advertisements\n",
    "\n",
    "$H_a$: Sales for Cool Ranch doritos will show a significant increase with the advertisement\n",
    "\n",
    "False Positive: reject $H_0$; the advertisement helped sales, but really it didn't, there may have been other factors\n",
    "\n",
    "False Negative: fail to reject $H_0$; we conclude that the ad did not help, but really it did \n",
    "\n",
    "True Positive: reject $H_0$; we conclude that the ad helped, and it did, data shows a boost in sales\n",
    "\n",
    "True Negative: fail to reject $H_0$: we conclude the ad did not boost sales, and really it didn't, there were no significat boost in sales with the advertisement"
   ]
  },
  {
   "cell_type": "markdown",
   "metadata": {},
   "source": [
    "#### Scenario: suppose we have a production issue while the ad is running -- there's not enough product to sell, sales are low"
   ]
  },
  {
   "cell_type": "markdown",
   "metadata": {},
   "source": [
    "False Negative: conclude that the ad didn't help, but really it did, with the boost in demand for the product the manufacturing could not keep up. Therefore there was no significant boost in sales.\n"
   ]
  },
  {
   "cell_type": "markdown",
   "metadata": {},
   "source": [
    "#### Scenario: suppose there's a global pandemic, and everyone is staying inside while the ad is running. There's increased sales of cool ranch doritos.\n",
    "\n"
   ]
  },
  {
   "cell_type": "markdown",
   "metadata": {},
   "source": [
    "False Positive: conclude that the ad helped, when really it didn't, there could be other factors boosting sales, for example: (COVID-19, Storms, anything causing people to stay indoors more and snack)\n"
   ]
  },
  {
   "cell_type": "code",
   "execution_count": null,
   "metadata": {},
   "outputs": [],
   "source": []
  }
 ],
 "metadata": {
  "kernelspec": {
   "display_name": "Python 3",
   "language": "python",
   "name": "python3"
  },
  "language_info": {
   "codemirror_mode": {
    "name": "ipython",
    "version": 3
   },
   "file_extension": ".py",
   "mimetype": "text/x-python",
   "name": "python",
   "nbconvert_exporter": "python",
   "pygments_lexer": "ipython3",
   "version": "3.8.5"
  }
 },
 "nbformat": 4,
 "nbformat_minor": 4
}
